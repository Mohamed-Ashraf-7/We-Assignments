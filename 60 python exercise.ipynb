{
 "cells": [
  {
   "cell_type": "markdown",
   "id": "759d04ba",
   "metadata": {},
   "source": [
    "1-Write a Python program to calculate the length of a string using 2 ways"
   ]
  },
  {
   "cell_type": "code",
   "execution_count": 1,
   "id": "7a2dfa32",
   "metadata": {},
   "outputs": [
    {
     "data": {
      "text/plain": [
       "7"
      ]
     },
     "execution_count": 1,
     "metadata": {},
     "output_type": "execute_result"
    }
   ],
   "source": [
    "strin=\"Mohamed\"\n",
    "#First Way \n",
    "strin.__len__()\n",
    "\n",
    "#Second Way\n",
    "c=0\n",
    "for i in strin:\n",
    "    c+=1\n",
    "c"
   ]
  },
  {
   "cell_type": "markdown",
   "id": "d7cc9da7",
   "metadata": {},
   "source": [
    "2-Write a Python program to get a string made of the first 2 and last 2 characters of a given string. If the string length is less than 2, return the empty string instead (\"##Sample String : 'w3resource' <br>\n",
    "Expected Result : 'w3ce' <br>\n",
    "##Sample String : 'w3'<br>\n",
    "Expected Result : 'w3w3'<br>\n",
    "##Sample String : ' w'<br>\n",
    "Expected Result : Empty String) "
   ]
  },
  {
   "cell_type": "code",
   "execution_count": 2,
   "id": "dafa9dd8",
   "metadata": {},
   "outputs": [],
   "source": [
    "s1=\"Mohamed\"\n",
    "s2=\"MO\"\n",
    "s3=\"Moh\"\n",
    "for i in range(s1.__len__()):\n",
    "    if i == 0 or i==1 or i==s1.__len__() or s1.__len__()-1:\n",
    "        s1[i]\n",
    "   \n"
   ]
  },
  {
   "cell_type": "markdown",
   "id": "1534f956",
   "metadata": {},
   "source": [
    "3-Write a Python program to add 'ing' at the end of a given string (length should be at least 3). If the given string already ends with 'ing', add 'ly' instead. If the string length of the given string is less than 3, leave it unchanged. (Sample String : 'abc'\n",
    "Expected Result : 'abcing')"
   ]
  },
  {
   "cell_type": "code",
   "execution_count": 3,
   "id": "7ff8cec4",
   "metadata": {},
   "outputs": [
    {
     "name": "stdout",
     "output_type": "stream",
     "text": [
      "playing\n"
     ]
    }
   ],
   "source": [
    "strin=\"play\"\n",
    "if strin.__len__() <= 3:\n",
    "    print(strin)\n",
    "elif strin.endswith(\"ing\"):\n",
    "    print(strin+\"ly\")\n",
    "else:\n",
    "    print(strin+\"ing\")\n"
   ]
  },
  {
   "cell_type": "markdown",
   "id": "1c0a6627",
   "metadata": {},
   "source": [
    "4-Write a Python function that takes a list of words and return the longest word and the length of the longest one\n",
    "(Longest word: Exercises\n",
    "Length of the longest word: 9)"
   ]
  },
  {
   "cell_type": "code",
   "execution_count": 75,
   "id": "397341d9",
   "metadata": {},
   "outputs": [
    {
     "name": "stdout",
     "output_type": "stream",
     "text": [
      "Longest word: as fast as i can\n",
      "Length of the longest word: 16\n"
     ]
    }
   ],
   "source": [
    "def find_longest_word(words):\n",
    "    longest_word = \"\"\n",
    "    longest_length = 0\n",
    "    \n",
    "    for word in words:\n",
    "        if len(word) > longest_length:\n",
    "            longest_word = word\n",
    "            longest_length = len(word)\n",
    "    \n",
    "    return longest_word, longest_length\n",
    "\n",
    "words_list = [\"Hello\", \"World\", \"Heyy\", \"i\", \"need\", \"to\", \"Finishh\", \"as fast as i can\"]\n",
    "longest_word, length = find_longest_word(words_list)\n",
    "print(\"Longest word:\", longest_word)\n",
    "print(\"Length of the longest word:\", length)\n"
   ]
  },
  {
   "cell_type": "markdown",
   "id": "53a03a6a",
   "metadata": {},
   "source": [
    "5-Write a Python program to change a given string to a newly string where the first and last chars have been exchanged using 2 ways (Sample String:abca  Expected Result:ebce)"
   ]
  },
  {
   "cell_type": "code",
   "execution_count": 4,
   "id": "285788b4",
   "metadata": {},
   "outputs": [
    {
     "name": "stdout",
     "output_type": "stream",
     "text": [
      "aella\n"
     ]
    }
   ],
   "source": [
    "strin=\"hello\"\n",
    "# First Way\n",
    "replace_character=\"a\"\n",
    "strin=strin.replace(strin[0],replace_character)\n",
    "strin=strin.replace(strin[strin.__len__()-1],replace_character)\n",
    "\n",
    "#Second Way\n",
    "print('a'+strin[1:(strin.__len__()-1)]+'a')\n"
   ]
  },
  {
   "cell_type": "markdown",
   "id": "25f89808",
   "metadata": {},
   "source": [
    "6-Write a Python program to remove characters that have odd index values in a given string (Sample String:abca Expected Result:ac)"
   ]
  },
  {
   "cell_type": "code",
   "execution_count": 5,
   "id": "05959bd7",
   "metadata": {},
   "outputs": [
    {
     "name": "stdout",
     "output_type": "stream",
     "text": [
      "ac"
     ]
    }
   ],
   "source": [
    "strin=\"abca\"\n",
    "for i in range(strin.__len__()):\n",
    "    if i % 2==0:\n",
    "        print(strin[i],end=\"\")"
   ]
  },
  {
   "cell_type": "markdown",
   "id": "eb16e898",
   "metadata": {},
   "source": [
    "7-Write a Python program to count the occurrences of each word in a given sentence (Sample String:amr and ahmed are frindes but amr is the tallest Expected Result:2)"
   ]
  },
  {
   "cell_type": "code",
   "execution_count": 6,
   "id": "01ce6cf5",
   "metadata": {},
   "outputs": [
    {
     "name": "stdout",
     "output_type": "stream",
     "text": [
      "{'amr': 2, 'and': 1, 'ahmed': 1, 'are': 1, 'friends': 1, 'but': 1, 'is': 1, 'the': 1, 'tallest': 1}\n"
     ]
    }
   ],
   "source": [
    "strin = \"amr and ahmed are friends but amr is the tallest\"\n",
    "words = strin.split()\n",
    "word_count = {}\n",
    "\n",
    "for word in words:\n",
    "    if word in word_count:\n",
    "        word_count[word] += 1\n",
    "    else:\n",
    "        word_count[word] = 1\n",
    "\n",
    "print(word_count)\n"
   ]
  },
  {
   "cell_type": "markdown",
   "id": "4e8125f1",
   "metadata": {},
   "source": [
    "8-Write a Python script that takes input from the user and displays that input back in upper and lower cases"
   ]
  },
  {
   "cell_type": "code",
   "execution_count": 7,
   "id": "66c8f778",
   "metadata": {},
   "outputs": [
    {
     "name": "stdout",
     "output_type": "stream",
     "text": [
      "HELLO hello\n"
     ]
    }
   ],
   "source": [
    "strin=\"hello\"\n",
    "up=strin.upper()\n",
    "low=strin.lower()\n",
    "print(up,low)\n"
   ]
  },
  {
   "cell_type": "markdown",
   "id": "fcd68aa1",
   "metadata": {},
   "source": [
    "9-Write a Python function to reverse a string if its length is a multiple of 4"
   ]
  },
  {
   "cell_type": "code",
   "execution_count": 8,
   "id": "0671a931",
   "metadata": {},
   "outputs": [
    {
     "name": "stdout",
     "output_type": "stream",
     "text": [
      "aaamginE\n"
     ]
    }
   ],
   "source": [
    "strin=\"Enigmaaa\"\n",
    "# strin=\"Enigma\"\n",
    "if strin.__len__() %4 ==0:\n",
    "    print(strin[::-1])\n",
    "else:\n",
    "    print(strin)"
   ]
  },
  {
   "cell_type": "markdown",
   "id": "b577c68d",
   "metadata": {},
   "source": [
    "10- Write a Python program to remove a newline in Python"
   ]
  },
  {
   "cell_type": "code",
   "execution_count": 9,
   "id": "e0c6525a",
   "metadata": {},
   "outputs": [
    {
     "data": {
      "text/plain": [
       "'Hello, World!'"
      ]
     },
     "execution_count": 9,
     "metadata": {},
     "output_type": "execute_result"
    }
   ],
   "source": [
    "strin = \"Hello,\\n World!\"\n",
    "strin = strin.replace(\"\\n\", \"\")\n",
    "strin\n"
   ]
  },
  {
   "cell_type": "markdown",
   "id": "80db5ae0",
   "metadata": {},
   "source": [
    "11-Write a Python program to check whether a string starts with specified characters"
   ]
  },
  {
   "cell_type": "code",
   "execution_count": 10,
   "id": "0cc4e03e",
   "metadata": {},
   "outputs": [
    {
     "name": "stdout",
     "output_type": "stream",
     "text": [
      "True\n",
      "None\n"
     ]
    }
   ],
   "source": [
    "strin=\"Hello\"\n",
    "def Checker(strin,spchar):\n",
    "    if strin.startswith(spchar):\n",
    "        print(True)\n",
    "    else:\n",
    "        print(False)\n",
    "print(Checker(strin,\"He\"))"
   ]
  },
  {
   "cell_type": "markdown",
   "id": "593a68db",
   "metadata": {},
   "source": [
    "12- Write a Python program to add prefix text to all of the lines in a string"
   ]
  },
  {
   "cell_type": "code",
   "execution_count": 11,
   "id": "d2e46ada",
   "metadata": {},
   "outputs": [
    {
     "name": "stdout",
     "output_type": "stream",
     "text": [
      " AAhello \n",
      " AAWorld \n",
      " AAHeyy\n"
     ]
    }
   ],
   "source": [
    "strin=\"hello \\n World \\n Heyy\"\n",
    "strin=strin.replace(\"\\n \",\"\\n AA\")\n",
    "print(\" AA\"+strin)"
   ]
  },
  {
   "cell_type": "markdown",
   "id": "86fa1543",
   "metadata": {},
   "source": [
    "13-Write a Python program to print the following numbers up to 2 decimal places"
   ]
  },
  {
   "cell_type": "code",
   "execution_count": 12,
   "id": "cd4a9d89",
   "metadata": {},
   "outputs": [
    {
     "name": "stdout",
     "output_type": "stream",
     "text": [
      "12.34\n"
     ]
    }
   ],
   "source": [
    "num=12.34456789\n",
    "print(round(num,2))"
   ]
  },
  {
   "cell_type": "markdown",
   "id": "452c0ab0",
   "metadata": {},
   "source": [
    "14-Write a Python program to print the following numbers up to 2 decimal places with a sign"
   ]
  },
  {
   "cell_type": "code",
   "execution_count": 82,
   "id": "73e82479",
   "metadata": {},
   "outputs": [
    {
     "name": "stdout",
     "output_type": "stream",
     "text": [
      " + 1  -2  + 3 + 4 + 5  -7  + 8"
     ]
    }
   ],
   "source": [
    "l1=[1,-2,3,4,5,-7,8]\n",
    "for i in l1:\n",
    "    if i >0:\n",
    "        print(\" +\",i,end=\"\")\n",
    "    else :\n",
    "        print(\" \",i,end=\" \")"
   ]
  },
  {
   "cell_type": "markdown",
   "id": "32b1811a",
   "metadata": {},
   "source": [
    "15-Write a Python program to display a number with a comma separator"
   ]
  },
  {
   "cell_type": "code",
   "execution_count": 13,
   "id": "f30fc0b6",
   "metadata": {},
   "outputs": [
    {
     "name": "stdout",
     "output_type": "stream",
     "text": [
      "1,2\n"
     ]
    }
   ],
   "source": [
    "print(str(1)+\",\"+str(2))"
   ]
  },
  {
   "cell_type": "markdown",
   "id": "0477f487",
   "metadata": {},
   "source": [
    "16-Write a Python program to reverse a string using 2 ways"
   ]
  },
  {
   "cell_type": "code",
   "execution_count": 14,
   "id": "aa8beec8",
   "metadata": {},
   "outputs": [
    {
     "name": "stdout",
     "output_type": "stream",
     "text": [
      "demahoM\n"
     ]
    }
   ],
   "source": [
    "strin=\"Mohamed\"\n",
    "print(strin[::-1])\n",
    "for i in range (strin.__len__(),0,strin.__len__()):\n",
    "    print(strin[i])\n"
   ]
  },
  {
   "cell_type": "markdown",
   "id": "5afc3166",
   "metadata": {},
   "source": [
    " 17-Write a Python program to count repeated characters in a string (hint:use dictionary)"
   ]
  },
  {
   "cell_type": "code",
   "execution_count": 15,
   "id": "515a469c",
   "metadata": {},
   "outputs": [
    {
     "data": {
      "text/plain": [
       "{'m': 2, 'o': 1, 'h': 1, 'a': 1, 'e': 1, 'd': 1}"
      ]
     },
     "execution_count": 15,
     "metadata": {},
     "output_type": "execute_result"
    }
   ],
   "source": [
    "strin=\"mohamed\"\n",
    "count={}\n",
    "for i in range(strin.__len__()):\n",
    "    c=0\n",
    "    for j in range(strin.__len__()):\n",
    "        if strin[i]==strin[j]:\n",
    "            c+=1\n",
    "        count.update({strin[i]:c})\n",
    "count\n"
   ]
  },
  {
   "cell_type": "markdown",
   "id": "ae14e4e5",
   "metadata": {},
   "source": [
    "18-Write a Python program to find the first non-repeating character in a given string"
   ]
  },
  {
   "cell_type": "code",
   "execution_count": 16,
   "id": "d73778e5",
   "metadata": {},
   "outputs": [
    {
     "name": "stdout",
     "output_type": "stream",
     "text": [
      "{1, 'o'}\n"
     ]
    }
   ],
   "source": [
    "strin=\"mohamed\"\n",
    "count={}\n",
    "for i in range(strin.__len__()):\n",
    "    c=0\n",
    "    for j in range(strin.__len__()):\n",
    "        if strin[i]==strin[j]:\n",
    "            c+=1\n",
    "        count.update({strin[i]:c})\n",
    "for key,value in count.items():\n",
    "    if value==1:\n",
    "        print({key,value})\n",
    "        break"
   ]
  },
  {
   "cell_type": "markdown",
   "id": "3adf5669",
   "metadata": {},
   "source": [
    "19-Write a Python program to remove spaces from a given string"
   ]
  },
  {
   "cell_type": "code",
   "execution_count": 17,
   "id": "b4f22602",
   "metadata": {},
   "outputs": [
    {
     "data": {
      "text/plain": [
       "'HelloWorld'"
      ]
     },
     "execution_count": 17,
     "metadata": {},
     "output_type": "execute_result"
    }
   ],
   "source": [
    "strin=\"Hello World \"\n",
    "strin=strin.replace(\" \",\"\")\n",
    "strin"
   ]
  },
  {
   "cell_type": "markdown",
   "id": "734de60c",
   "metadata": {},
   "source": [
    "20-Write a Python program to count the number of non-empty substrings of a given string"
   ]
  },
  {
   "cell_type": "code",
   "execution_count": 18,
   "id": "ef3f2274",
   "metadata": {},
   "outputs": [
    {
     "data": {
      "text/plain": [
       "28"
      ]
     },
     "execution_count": 18,
     "metadata": {},
     "output_type": "execute_result"
    }
   ],
   "source": [
    "def count_non_empty_substrings(s):\n",
    "    n = len(s)\n",
    "    return n * (n + 1) // 2\n",
    "string = \"Mohamed\"\n",
    "count_non_empty_substrings(string)\n"
   ]
  },
  {
   "cell_type": "markdown",
   "id": "509998e2",
   "metadata": {},
   "source": [
    "21-write a Python program to swap first and last element of any list."
   ]
  },
  {
   "cell_type": "code",
   "execution_count": 19,
   "id": "68692d7f",
   "metadata": {},
   "outputs": [
    {
     "name": "stdout",
     "output_type": "stream",
     "text": [
      "dohameM\n"
     ]
    }
   ],
   "source": [
    "strin=\"Mohamed\"\n",
    "print(strin[strin.__len__()-1]+strin[1:strin.__len__()-1]+strin[0])"
   ]
  },
  {
   "cell_type": "markdown",
   "id": "959e0837",
   "metadata": {},
   "source": [
    "22-Given a list in Python and provided the positions of the elements,\n",
    "<br>write a program to swap the two elements in the list.<br>\n",
    "(Input : List = [23, 65, 19, 90], pos1 = 1, pos2 = 3 <br>\n",
    "Output : [19, 65, 23, 90])"
   ]
  },
  {
   "cell_type": "code",
   "execution_count": 20,
   "id": "225d8c6d",
   "metadata": {},
   "outputs": [
    {
     "data": {
      "text/plain": [
       "[19, 65, 23, 90]"
      ]
     },
     "execution_count": 20,
     "metadata": {},
     "output_type": "execute_result"
    }
   ],
   "source": [
    "l1 = [23, 65, 19, 90]\n",
    "def swap(l1,pos1,pos2):\n",
    "    temp=l1[pos1-1]\n",
    "    l1[pos1-1]=l1[pos2-1]\n",
    "    l1[pos2-1]=temp\n",
    "    return l1\n",
    "swap(l1,1,3)"
   ]
  },
  {
   "cell_type": "markdown",
   "id": "66fc6682",
   "metadata": {},
   "source": [
    "23- search for the all ways to know the length of the list"
   ]
  },
  {
   "cell_type": "code",
   "execution_count": 21,
   "id": "0ce2ab11-e694-4ef4-886e-781f5c6857d1",
   "metadata": {},
   "outputs": [
    {
     "data": {
      "text/plain": [
       "4"
      ]
     },
     "execution_count": 21,
     "metadata": {},
     "output_type": "execute_result"
    }
   ],
   "source": [
    "from collections import Counter\n",
    "#First Way\n",
    "l1 = [23, 65, 19, 90]\n",
    "#Second Way\n",
    "l1.__len__()\n",
    "#Third Way\n",
    "len(l1)\n",
    "#Fourth Way\n",
    "len(Counter(l1))\n",
    "#Fifth Way\n",
    "c=0\n",
    "for i in l1:\n",
    "    c+=1\n",
    "c"
   ]
  },
  {
   "cell_type": "markdown",
   "id": "635e76c5-7b68-4e02-972d-7d9eae99b598",
   "metadata": {},
   "source": [
    "24-write a Python code to find the Maximum number of list of numbers."
   ]
  },
  {
   "cell_type": "code",
   "execution_count": 86,
   "id": "15f342de",
   "metadata": {},
   "outputs": [
    {
     "data": {
      "text/plain": [
       "42"
      ]
     },
     "execution_count": 86,
     "metadata": {},
     "output_type": "execute_result"
    }
   ],
   "source": [
    "l = [10, 23, 5, 42, 17, 29]\n",
    "max=0\n",
    "for i in l:\n",
    "    if i>max:\n",
    "        max=i\n",
    "max\n"
   ]
  },
  {
   "cell_type": "markdown",
   "id": "af36b71c-3de0-42e0-b49a-fc06cfc62068",
   "metadata": {},
   "source": [
    "25-write a Python code to find the Minimum number of list of numbers."
   ]
  },
  {
   "cell_type": "code",
   "execution_count": 87,
   "id": "21f8cbd6",
   "metadata": {},
   "outputs": [
    {
     "data": {
      "text/plain": [
       "5"
      ]
     },
     "execution_count": 87,
     "metadata": {},
     "output_type": "execute_result"
    }
   ],
   "source": [
    "l = [10, 23, 5, 42, 17, 29]\n",
    "min=100000000\n",
    "for i in l:\n",
    "    if min>i:\n",
    "        min=i\n",
    "min        "
   ]
  },
  {
   "cell_type": "markdown",
   "id": "96822d96",
   "metadata": {},
   "source": [
    "**26-search for if an elem is existing in list"
   ]
  },
  {
   "cell_type": "code",
   "execution_count": 67,
   "id": "51ca5c9a",
   "metadata": {},
   "outputs": [
    {
     "name": "stdout",
     "output_type": "stream",
     "text": [
      "3\n"
     ]
    }
   ],
   "source": [
    "l=[1,2,3,4,5,6,7]\n",
    "target=3\n",
    "for i in l:\n",
    "    if i == target:\n",
    "        print(l[i-1])"
   ]
  },
  {
   "cell_type": "markdown",
   "id": "d9557da7",
   "metadata": {},
   "source": [
    "**27- clear python list using different ways"
   ]
  },
  {
   "cell_type": "code",
   "execution_count": 69,
   "id": "b69858a3",
   "metadata": {},
   "outputs": [
    {
     "data": {
      "text/plain": [
       "[]"
      ]
     },
     "execution_count": 69,
     "metadata": {},
     "output_type": "execute_result"
    }
   ],
   "source": [
    "l=[1,2,3,4,5,6,7]\n",
    "#First Way \n",
    "l.clear()\n",
    "l\n",
    "#Second Way\n",
    "for i in l:\n",
    "    l.pop()\n",
    "l"
   ]
  },
  {
   "cell_type": "markdown",
   "id": "52160e88",
   "metadata": {},
   "source": [
    "**28-remove duplicated elements from a list"
   ]
  },
  {
   "cell_type": "code",
   "execution_count": 72,
   "id": "5e362228",
   "metadata": {},
   "outputs": [
    {
     "name": "stdout",
     "output_type": "stream",
     "text": [
      "[1, 2, 3, 4, 5, 6, 7, 8]\n"
     ]
    }
   ],
   "source": [
    "l=[1,2,3,4,5,6,7,7,8,1,2,2,4]\n",
    "l1=set(l)\n",
    "print(list(l1))\n"
   ]
  },
  {
   "cell_type": "markdown",
   "id": "282337f7",
   "metadata": {},
   "source": [
    "**29-Given list values and keys list, convert these values to key value pairs in form of list of dictionaries.<br>\n",
    "(Input : test_list = [“Gfg”, 3, “is”, 8], key_list = [“name”, “id”]<br>\n",
    "Output : [{‘name’: ‘Gfg’, ‘id’: 3}, {‘name’: ‘is’, ‘id’: 8}])"
   ]
  },
  {
   "cell_type": "code",
   "execution_count": 73,
   "id": "4d4e2d28",
   "metadata": {},
   "outputs": [
    {
     "name": "stdout",
     "output_type": "stream",
     "text": [
      "[{'name': 'Gfg', 'id': 3}, {'name': 'is', 'id': 8}]\n"
     ]
    }
   ],
   "source": [
    "test_list = [\"Gfg\", 3, \"is\", 8]\n",
    "key_list = [\"name\", \"id\"]\n",
    "result = [{key_list[0]: test_list[i], key_list[1]: test_list[i + 1]} for i in range(0, len(test_list), 2)]\n",
    "print(result)\n"
   ]
  },
  {
   "cell_type": "markdown",
   "id": "c26b6e9f",
   "metadata": {},
   "source": [
    "**30-write a python program to count unique values inside a list using different ways"
   ]
  },
  {
   "cell_type": "code",
   "execution_count": 23,
   "id": "72132667",
   "metadata": {},
   "outputs": [
    {
     "data": {
      "text/plain": [
       "'\\n#Second Way\\nl2=[]\\nfor i in range(len(list1)):\\n    if list1[i] not in l2:\\n        l2.append(list1[i])\\nl2\\n'"
      ]
     },
     "execution_count": 23,
     "metadata": {},
     "output_type": "execute_result"
    }
   ],
   "source": [
    "list1=[1,2,3,4,5,6,7,8,9,1,2,3,4,5,5,5,6]\n",
    "\"\"\"\n",
    "#First Way\n",
    "list1=set(list1)\n",
    "list1\n",
    "\"\"\"\n",
    "\n",
    "\"\"\"\n",
    "#Second Way\n",
    "l2=[]\n",
    "for i in range(len(list1)):\n",
    "    if list1[i] not in l2:\n",
    "        l2.append(list1[i])\n",
    "l2\n",
    "\"\"\"\n"
   ]
  },
  {
   "cell_type": "markdown",
   "id": "fed6677c",
   "metadata": {},
   "source": [
    "**31-write a python program Extract all elements with Frequency greater than K (Input : test_list = [4, 6, 4, 3, 3, 4, 3, 4, 3, 8], K = 3 \n",
    "Output : [4, 3] )"
   ]
  },
  {
   "cell_type": "code",
   "execution_count": 24,
   "id": "d81f3f9d",
   "metadata": {},
   "outputs": [
    {
     "name": "stdout",
     "output_type": "stream",
     "text": [
      "4 3 "
     ]
    }
   ],
   "source": [
    "test_list = [4, 6, 4, 3, 3, 4, 3, 4, 3, 8]\n",
    "K = 3\n",
    "l1={}\n",
    "freq=0\n",
    "for i in range(len(test_list)):\n",
    "    for j in range(0,len(test_list)):\n",
    "        if test_list[i]==test_list[j]:\n",
    "            freq +=1\n",
    "    l1.update({test_list[i]:freq})\n",
    "    freq=0\n",
    "l2=[]\n",
    "for i in l1:\n",
    "    if l1[i] > K:\n",
    "        print(i,end=\" \")\n",
    "\n"
   ]
  },
  {
   "cell_type": "markdown",
   "id": "caca5224",
   "metadata": {},
   "source": [
    "**32-write a python program to find the Strongest Neighbour (Input: 1 2 2 3 4 5\n",
    "Output: 2 2 3 4 5)"
   ]
  },
  {
   "cell_type": "code",
   "execution_count": 25,
   "id": "39fbd9b2",
   "metadata": {},
   "outputs": [
    {
     "data": {
      "text/plain": [
       "[2, 2, 3, 4, 5]"
      ]
     },
     "execution_count": 25,
     "metadata": {},
     "output_type": "execute_result"
    }
   ],
   "source": [
    "l=[1,2,2,3,4,5]\n",
    "l1=[]\n",
    "\n",
    "for i in range(1,len(l)):\n",
    "    if l[i-1]<=l[i]:\n",
    "        l1.append(l[i])\n",
    "l1"
   ]
  },
  {
   "cell_type": "markdown",
   "id": "a9fa8baf",
   "metadata": {},
   "source": [
    "**33-write a Python Program to print all Possible Combinations from the three Digits (Input: [1, 2, 3]\n",
    "Output:\n",
    "1 2 3 ##\n",
    "1 3 2 ##\n",
    "2 1 3 ##\n",
    "2 3 1 ##\n",
    "3 1 2 ##\n",
    "3 2 1)"
   ]
  },
  {
   "cell_type": "code",
   "execution_count": 26,
   "id": "8c520a76",
   "metadata": {},
   "outputs": [
    {
     "name": "stdout",
     "output_type": "stream",
     "text": [
      "Number of possible Combinations >  6\n",
      "1 2 3\n",
      "1 3 2\n",
      "2 1 3\n",
      "2 3 1\n",
      "3 1 2\n",
      "3 2 1\n"
     ]
    }
   ],
   "source": [
    "l=[1,2,3]\n",
    "print(\"Number of possible Combinations > \",(2**(len(l)))-2)\n",
    "for i in range(len(l)):\n",
    "    for j in range(len(l)):\n",
    "        for k in range (len(l)):\n",
    "            if l[i] != l[j] and l[i] != l[k] and l[j] != l[k]:\n",
    "                print(l[i],l[j],l[k])"
   ]
  },
  {
   "cell_type": "markdown",
   "id": "5288bb89",
   "metadata": {},
   "source": [
    "**34-write a Python program to find all the Combinations in the list with the given condition (Input: test_list = [1,2,3] \n",
    "Output: \n",
    " [1], [1, 2], [1, 2, 3], [1, 3]\n",
    " [2], [2, 3], [3])"
   ]
  },
  {
   "cell_type": "code",
   "execution_count": 27,
   "id": "59b89646",
   "metadata": {},
   "outputs": [
    {
     "name": "stdout",
     "output_type": "stream",
     "text": [
      "[1]\n",
      "[1, 2]\n",
      "[1, 2, 3]\n",
      "[1, 2]\n",
      "[1, 2, 3]\n",
      "[1, 2, 3]\n",
      "[2]\n",
      "[2, 3]\n",
      "[2, 3]\n",
      "[3]\n"
     ]
    }
   ],
   "source": [
    "l=[1,2,3]\n",
    "\n",
    "for i in range(len(l)):\n",
    "    for j in range(i,len(l)):\n",
    "        for k in range (j,len(l)):\n",
    "            print(l[i:k+1])"
   ]
  },
  {
   "cell_type": "markdown",
   "id": "39973705",
   "metadata": {},
   "source": [
    "**35-write a Python program to get all unique combinations of two Lists (List_1 = [\"a\",\"b\"]\n",
    "List_2 = [1,2]\n",
    "Unique_combination = [[('a',1),('b',2)],[('a',2),('b',1)]] )"
   ]
  },
  {
   "cell_type": "code",
   "execution_count": 28,
   "id": "8c4ba22b",
   "metadata": {},
   "outputs": [
    {
     "data": {
      "text/plain": [
       "[('a', 1), ('a', 2), ('b', 1), ('b', 2)]"
      ]
     },
     "execution_count": 28,
     "metadata": {},
     "output_type": "execute_result"
    }
   ],
   "source": [
    "List_1 = [\"a\",\"b\"]\n",
    "List_2 = [1,2]\n",
    "l =[]\n",
    "for i in range (len(List_1)):\n",
    "    for j in range(len(List_2)):\n",
    "        l.append((List_1[i],List_2[j]))\n",
    "l"
   ]
  },
  {
   "cell_type": "markdown",
   "id": "25199af5",
   "metadata": {},
   "source": [
    "**36-Remove all the occurrences of an element from a list in Python (Input : 1 1 2 3 4 5 1 2 1 \n",
    "\n",
    "**Output : 2 3 4 5 2)"
   ]
  },
  {
   "cell_type": "code",
   "execution_count": 29,
   "id": "6dc4c2ba",
   "metadata": {},
   "outputs": [
    {
     "name": "stdout",
     "output_type": "stream",
     "text": [
      "[2, 3, 4, 5, 2]\n"
     ]
    }
   ],
   "source": [
    "l1=[1,1,2,3,4,5,1,2,1]\n",
    "freq=0\n",
    "l={}\n",
    "for i in range (len(l1)):\n",
    "    for j in range(0,len(l1)):\n",
    "        if l1[i]==l1[j]:\n",
    "            freq +=1\n",
    "    l.update({l1[i]:freq})\n",
    "    freq=0\n",
    "max =0\n",
    "\n",
    "# for i in range (len(l1)):\n",
    "#     if l[i] > max:\n",
    "#         max=l[i]\n",
    "for value in l.values() :\n",
    "    if value>max:\n",
    "        max=value\n",
    "key = next((k for k, v in l.items() if v == max), None)\n",
    "l1=[x for x in l1 if x !=key]\n",
    "print(l1)\n",
    "\n"
   ]
  },
  {
   "cell_type": "markdown",
   "id": "bf1a3c93",
   "metadata": {},
   "source": [
    "**37-write a python program to Replace index elements with elements in Other List <br>\n",
    "(The original list 1 is : [‘Gfg’, ‘is’, ‘best’]<br> \n",
    "The original list 2 is : [0, 1, 2, 1, 0, 0, 0, 2, 1, 1, 2, 0] <br>\n",
    "The lists after index elements replacements is : [‘Gfg’, ‘is’, ‘best’, ‘is’, ‘Gfg’, ‘Gfg’, ‘Gfg’, ‘best’, ‘is’, ‘is’, ‘best’, ‘Gfg’])"
   ]
  },
  {
   "cell_type": "code",
   "execution_count": 30,
   "id": "e3ab6802-d0c3-41ea-aa81-ce4023808f0c",
   "metadata": {},
   "outputs": [
    {
     "name": "stdout",
     "output_type": "stream",
     "text": [
      "['Gfg', 'is', 'best', 'is', 'Gfg', 'Gfg', 'Gfg', 'best', 'is', 'is', 'best', 'Gfg'] "
     ]
    }
   ],
   "source": [
    "l1=['Gfg', 'is', 'best']\n",
    "l2=[0, 1, 2, 1, 0, 0, 0, 2, 1, 1, 2, 0]\n",
    "for i in range(len(l2)):\n",
    "    if l2[i]==0:\n",
    "      l2[i]=l1[0]\n",
    "    elif l2[i]==1:\n",
    "       l2[i]=l1[1]\n",
    "    else:\n",
    "       l2[i]=l1[2]\n",
    "print(l2,end=\" \")"
   ]
  },
  {
   "cell_type": "markdown",
   "id": "af0f56e8",
   "metadata": {},
   "source": [
    "**38- write python program to Retain records with N occurrences of K(Input : test_list = [(4, 5, 5, 4), (5, 4, 3)], K = 5, N = 2 <br>\n",
    "Output : [(4, 5, 5, 4)] <br>\n",
    "Input : test_list = [(4, 5, 5, 4), (5, 4, 3)], K = 5, N = 3 <br>\n",
    "Output : [] )"
   ]
  },
  {
   "cell_type": "code",
   "execution_count": null,
   "id": "5b378aef-36e8-4a02-b14b-1197ffbd7df0",
   "metadata": {},
   "outputs": [],
   "source": []
  },
  {
   "cell_type": "markdown",
   "id": "de76f183",
   "metadata": {},
   "source": [
    "**39-write a Python Program to Sort the list according to the column using lambda<br>\n",
    "array = [[1, 3, 3], [2, 1, 2], [3, 2, 1]]<br>\n",
    "Output :<br>\n",
    "Sorted array specific to column 0, [[1, 3, 3], [2, 1, 2], [3, 2, 1]]<br>\n",
    "Sorted array specific to column 1, [[2, 1, 2], [3, 2, 1], [1, 3, 3]]<br>\n",
    "Sorted array specific to column 2, [[3, 2, 1], [2, 1, 2], [1, 3, 3]]"
   ]
  },
  {
   "cell_type": "code",
   "execution_count": 31,
   "id": "86e2ec37-1c78-47cb-b57f-3a9ddc7c553e",
   "metadata": {},
   "outputs": [
    {
     "name": "stdout",
     "output_type": "stream",
     "text": [
      "[[1, 3, 3], [2, 1, 2], [3, 2, 1]]\n",
      "[[2, 1, 2], [3, 2, 1], [1, 3, 3]]\n",
      "[[3, 2, 1], [2, 1, 2], [1, 3, 3]]\n"
     ]
    }
   ],
   "source": [
    "array = [[1, 3, 3], [2, 1, 2], [3, 2, 1]]\n",
    "for i in range(len(array)):\n",
    "    array.sort(key=lambda x: x[i])\n",
    "    print(array)\n"
   ]
  },
  {
   "cell_type": "markdown",
   "id": "cc17bbe5-03d1-4204-a6f5-75665af9bc72",
   "metadata": {},
   "source": [
    "**40- write a program to Sort Python Dictionaries by Key or Value <br>\n",
    "Input: <br>\n",
    "{'ravi': 10, 'rajnish': 9, 'sanjeev': 15, 'yash': 2, 'suraj': 32}\n",
    "<br>\n",
    "Output: <br>\n",
    "{'rajnish': 9, 'ravi': 10, 'sanjeev': 15, 'suraj': 32, 'yash': 2}"
   ]
  },
  {
   "cell_type": "code",
   "execution_count": 32,
   "id": "a96db4a0",
   "metadata": {},
   "outputs": [
    {
     "name": "stdout",
     "output_type": "stream",
     "text": [
      "{'rajnish': 9, 'ravi': 10, 'sanjeev': 15, 'suraj': 32, 'yash': 2}\n"
     ]
    }
   ],
   "source": [
    "l={'ravi': 10, 'rajnish': 9, 'sanjeev': 15, 'yash': 2, 'suraj': 32}\n",
    "l=dict(sorted(l.items(),key=lambda x:x[0]))\n",
    "print(l)"
   ]
  },
  {
   "cell_type": "markdown",
   "id": "ec63c23a",
   "metadata": {},
   "source": [
    "**41-write python program to Remove keys with Values Greater than K ( Including mixed values ) <br>\n",
    "input : test_dict = {‘Gfg’ : 3, ‘is’ : 7, ‘best’ : 10, ‘for’ : 6, ‘geeks’ : ‘CS’},\n",
    "K = 7 <br>\n",
    "Output : {‘Gfg’ : 3, ‘for’ : 6, ‘geeks’ : ‘CS’}"
   ]
  },
  {
   "cell_type": "code",
   "execution_count": 33,
   "id": "e39c3a40",
   "metadata": {},
   "outputs": [
    {
     "name": "stdout",
     "output_type": "stream",
     "text": [
      "{'Gfg': 3} {'for': 6} {'geeks': 'CS'} "
     ]
    }
   ],
   "source": [
    "test_dict = {'Gfg' : 3, 'is' : 7, 'best' : 10, 'for' : 6, 'geeks' : 'CS'}\n",
    "l=[]\n",
    "k=7\n",
    "for value in test_dict.values() :\n",
    "    if isinstance(value,str):\n",
    "            l.append(value)\n",
    "    elif int(value) < k:\n",
    "            l.append(value)\n",
    "l\n",
    "for key,value in test_dict.items():\n",
    "       for i in l:\n",
    "              if i==value:\n",
    "                     print({key:value},end=\" \")\n"
   ]
  },
  {
   "cell_type": "markdown",
   "id": "f143f0fe",
   "metadata": {},
   "source": [
    "**42-Write a Python program to concatenate the following dictionaries to create a new one\n",
    "\n",
    "Sample Dictionary :\n",
    "dic1={1:10, 2:20}\n",
    "dic2={3:30, 4:40}\n",
    "dic3={5:50,6:60}\n",
    "Expected Result : {1: 10, 2: 20, 3: 30, 4: 40, 5: 50, 6: 60}"
   ]
  },
  {
   "cell_type": "code",
   "execution_count": 34,
   "id": "74ffdfea",
   "metadata": {},
   "outputs": [
    {
     "data": {
      "text/plain": [
       "{1: 10, 2: 20, 3: 30, 4: 40, 5: 50, 6: 60}"
      ]
     },
     "execution_count": 34,
     "metadata": {},
     "output_type": "execute_result"
    }
   ],
   "source": [
    "dic1={1:10, 2:20}\n",
    "dic2={3:30, 4:40}\n",
    "dic3={5:50,6:60}\n",
    "dic1.update(dic2)\n",
    "dic1.update(dic3)\n",
    "dic1"
   ]
  },
  {
   "cell_type": "markdown",
   "id": "fb04c93c",
   "metadata": {},
   "source": [
    "**43-Write a Python program to iterate over dictionaries using for loops"
   ]
  },
  {
   "cell_type": "code",
   "execution_count": 35,
   "id": "6aebc470",
   "metadata": {},
   "outputs": [
    {
     "name": "stdout",
     "output_type": "stream",
     "text": [
      "('Gfg', 3)\n",
      "('is', 7)\n",
      "('best', 10)\n",
      "('for', 6)\n",
      "('geeks', 'CS')\n"
     ]
    }
   ],
   "source": [
    "test_dict = {'Gfg' : 3, 'is' : 7, 'best' : 10, 'for' : 6, 'geeks' : 'CS'}\n",
    "for key,value in test_dict.items():\n",
    "    print((key,value))"
   ]
  },
  {
   "cell_type": "markdown",
   "id": "5f491a9d",
   "metadata": {},
   "source": [
    "**44- Write a Python script to merge two Python dictionaries"
   ]
  },
  {
   "cell_type": "code",
   "execution_count": 36,
   "id": "b8a14028",
   "metadata": {},
   "outputs": [
    {
     "data": {
      "text/plain": [
       "{1: 10, 2: 20, 3: 30, 4: 40}"
      ]
     },
     "execution_count": 36,
     "metadata": {},
     "output_type": "execute_result"
    }
   ],
   "source": [
    "dic1={1:10, 2:20}\n",
    "dic2={3:30, 4:40}\n",
    "dic1.update(dic2)\n",
    "dic1"
   ]
  },
  {
   "cell_type": "markdown",
   "id": "216fc72d",
   "metadata": {},
   "source": [
    "**45-Write a Python program to get the maximum and minimum values of a dictionary values"
   ]
  },
  {
   "cell_type": "code",
   "execution_count": 37,
   "id": "d6883f5f",
   "metadata": {},
   "outputs": [
    {
     "data": {
      "text/plain": [
       "32"
      ]
     },
     "execution_count": 37,
     "metadata": {},
     "output_type": "execute_result"
    }
   ],
   "source": [
    "l={'ravi': 10, 'rajnish': 9, 'sanjeev': 15, 'yash': 2, 'suraj': 32}\n",
    "max=0\n",
    "for value in l.values():\n",
    "    if max<value:\n",
    "        max=value\n",
    "max"
   ]
  },
  {
   "cell_type": "markdown",
   "id": "b6a53011",
   "metadata": {},
   "source": [
    "**46- Write a Python program to drop empty items from a given dictionary.<br>\n",
    "Original Dictionary:<br>\n",
    "{'c1': 'Red', 'c2': 'Green', 'c3': None}<br>\n",
    "New Dictionary after dropping empty items:<br>\n",
    "{'c1': 'Red', 'c2': 'Green'}"
   ]
  },
  {
   "cell_type": "code",
   "execution_count": 38,
   "id": "b5c6fecf",
   "metadata": {},
   "outputs": [
    {
     "name": "stdout",
     "output_type": "stream",
     "text": [
      "{'c1': 'Red'} {'c2': 'Green'} "
     ]
    }
   ],
   "source": [
    "l={'c1': 'Red', 'c2': 'Green', 'c3': None}\n",
    "for key,value in l.items():\n",
    "    if value is not None:\n",
    "        print({key:value},end=\" \")"
   ]
  },
  {
   "cell_type": "markdown",
   "id": "46d718c7",
   "metadata": {},
   "source": [
    "**47-Write a Python program to create a tuple of numbers and print one item"
   ]
  },
  {
   "cell_type": "code",
   "execution_count": 39,
   "id": "13216ff5",
   "metadata": {},
   "outputs": [
    {
     "data": {
      "text/plain": [
       "(0, 1, 2, 3, 4, 5, 6, 7, 8, 9, 10)"
      ]
     },
     "execution_count": 39,
     "metadata": {},
     "output_type": "execute_result"
    }
   ],
   "source": [
    "l=[]\n",
    "for i in range(0,11):\n",
    "    l.append(i)\n",
    "t=tuple(l)\n",
    "t[5]\n",
    "t"
   ]
  },
  {
   "cell_type": "markdown",
   "id": "2be5b56b",
   "metadata": {},
   "source": [
    "**48-Write a Python program to unpack a tuple into several variables"
   ]
  },
  {
   "cell_type": "code",
   "execution_count": 40,
   "id": "595f44be",
   "metadata": {},
   "outputs": [
    {
     "name": "stdout",
     "output_type": "stream",
     "text": [
      "0   1   2   3   [4, 5, 6, 7, 8, 9, 10]\n"
     ]
    }
   ],
   "source": [
    "t=(0, 1, 2, 3, 4, 5, 6, 7, 8, 9, 10)\n",
    "a,b,c,d,*remain=t\n",
    "print(a,\" \",b,\" \",c,\" \",d,\" \",remain)"
   ]
  },
  {
   "cell_type": "markdown",
   "id": "392388a7",
   "metadata": {},
   "source": [
    "**49-Write a Python program to add an item to a tuple"
   ]
  },
  {
   "cell_type": "code",
   "execution_count": 41,
   "id": "54cc092e",
   "metadata": {},
   "outputs": [
    {
     "data": {
      "text/plain": [
       "(0, 1, 2, 3, 4, 5, 6, 7, 8, 9, 10, 11)"
      ]
     },
     "execution_count": 41,
     "metadata": {},
     "output_type": "execute_result"
    }
   ],
   "source": [
    "t=(0, 1, 2, 3, 4, 5, 6, 7, 8, 9, 10)\n",
    "l=list(t)\n",
    "l.append(11)\n",
    "t=tuple(l)\n",
    "t"
   ]
  },
  {
   "cell_type": "markdown",
   "id": "3e8fd124",
   "metadata": {},
   "source": [
    "**50-Write a Python program to convert a tuple to a string"
   ]
  },
  {
   "cell_type": "code",
   "execution_count": 42,
   "id": "92a71ddc",
   "metadata": {},
   "outputs": [
    {
     "name": "stdout",
     "output_type": "stream",
     "text": [
      "(0, 1, 2, 3, 4, 5, 6, 7, 8, 9, 10) <class 'str'>\n"
     ]
    }
   ],
   "source": [
    "t=(0, 1, 2, 3, 4, 5, 6, 7, 8, 9, 10)\n",
    "string=str(t)\n",
    "\n",
    "print(string,type(string))"
   ]
  },
  {
   "cell_type": "markdown",
   "id": "f4f64ef4",
   "metadata": {},
   "source": [
    "**51-Write a Python program to convert a list to a tuple"
   ]
  },
  {
   "cell_type": "code",
   "execution_count": 43,
   "id": "210d56d3",
   "metadata": {},
   "outputs": [
    {
     "data": {
      "text/plain": [
       "(1, 1, 2, 3, 4, 5, 1, 2, 1)"
      ]
     },
     "execution_count": 43,
     "metadata": {},
     "output_type": "execute_result"
    }
   ],
   "source": [
    "l1=[1,1,2,3,4,5,1,2,1]\n",
    "t=tuple(l1)\n",
    "t"
   ]
  },
  {
   "cell_type": "markdown",
   "id": "b1e00ef7",
   "metadata": {},
   "source": [
    "**52-Write a Python program to reverse a tuple"
   ]
  },
  {
   "cell_type": "code",
   "execution_count": 44,
   "id": "f45bfdc7",
   "metadata": {},
   "outputs": [
    {
     "name": "stdout",
     "output_type": "stream",
     "text": [
      "(10, 9, 8, 7, 6, 5, 4, 3, 2, 1, 0)\n"
     ]
    }
   ],
   "source": [
    "t=(0, 1, 2, 3, 4, 5, 6, 7, 8, 9, 10)\n",
    "print(t[::-1])"
   ]
  },
  {
   "cell_type": "markdown",
   "id": "3cd347d1",
   "metadata": {},
   "source": [
    "**53-Write a Python program to replace the last value of tuples in a list.<br>\n",
    "Sample list: [(10, 20, 40), (40, 50, 60), (70, 80, 90)] <br>\n",
    "Expected Output: [(10, 20, 100), (40, 50, 100), (70, 80, 100)]"
   ]
  },
  {
   "cell_type": "code",
   "execution_count": 45,
   "id": "3c4a2a4c",
   "metadata": {},
   "outputs": [
    {
     "name": "stdout",
     "output_type": "stream",
     "text": [
      "((10, 20, 100), (40, 50, 100), (70, 80, 100))\n"
     ]
    }
   ],
   "source": [
    "# t=[(10, 20, 40), (40, 50, 60), (70, 80, 90)]\n",
    "# l=list((t))\n",
    "# for i in range (len(l)):\n",
    "#     for j in range (len(l[0])):\n",
    "#         if j==(len(l[0])):\n",
    "#             l[i][j]=100\n",
    "# tup=tuple(l)\n",
    "# tup\n",
    "\n",
    "t = [(10, 20, 40), (40, 50, 60), (70, 80, 90)]\n",
    "l = list(t)\n",
    "updated_list = []\n",
    "for tup in l:\n",
    "    updated_tup = tup[:-1] + (100,)\n",
    "    updated_list.append(updated_tup)\n",
    "tup = tuple(updated_list)\n",
    "print(tup)"
   ]
  },
  {
   "cell_type": "markdown",
   "id": "76bb7b39",
   "metadata": {},
   "source": [
    "**54-Write a Python program to convert a given string list to a tuple\n",
    "Original string: python 3.0 <br>\n",
    "<class 'str'> <br>\n",
    "Convert the said string to a tuple: <br>\n",
    "('p', 'y', 't', 'h', 'o', 'n', '3', '.', '0')"
   ]
  },
  {
   "cell_type": "code",
   "execution_count": 46,
   "id": "51951937",
   "metadata": {},
   "outputs": [
    {
     "name": "stdout",
     "output_type": "stream",
     "text": [
      "('p', 'y', 't', 'h', 'o', 'n', '3', '.', '0') <class 'str'>\n"
     ]
    }
   ],
   "source": [
    "l=['p', 'y', 't', 'h', 'o', 'n', '3', '.', '0']\n",
    "tup=tuple(l)\n",
    "tup=str(tup)\n",
    "print(tup,type(tup))"
   ]
  },
  {
   "cell_type": "markdown",
   "id": "5a1d5d97",
   "metadata": {},
   "source": [
    "**55-Write a Python program to calculate the average value of the numbers in a given tuple of tuples"
   ]
  },
  {
   "cell_type": "code",
   "execution_count": 47,
   "id": "834e7992",
   "metadata": {},
   "outputs": [
    {
     "data": {
      "text/plain": [
       "51.0"
      ]
     },
     "execution_count": 47,
     "metadata": {},
     "output_type": "execute_result"
    }
   ],
   "source": [
    "t = ((10, 20, 40), (40, 50, 60), (70, 80, 90))\n",
    "l=[]\n",
    "for i in t:\n",
    "    for j in i:\n",
    "        l.append(j)\n",
    "#l\n",
    "sum=0\n",
    "for i in l:\n",
    "    sum+=i\n",
    "average=sum/len(l)\n",
    "round(average,0)"
   ]
  },
  {
   "cell_type": "markdown",
   "id": "51edab9c",
   "metadata": {},
   "source": [
    "**56-Write a Python program to add member(s) to a set."
   ]
  },
  {
   "cell_type": "code",
   "execution_count": 48,
   "id": "2b65df79",
   "metadata": {},
   "outputs": [
    {
     "data": {
      "text/plain": [
       "{1, 2, 3, 4, 5, 8}"
      ]
     },
     "execution_count": 48,
     "metadata": {},
     "output_type": "execute_result"
    }
   ],
   "source": [
    "s = {1, 2, 3, 4, 5}\n",
    "s.add(8)\n",
    "s"
   ]
  },
  {
   "cell_type": "markdown",
   "id": "965590cc",
   "metadata": {},
   "source": [
    "**57-Write a Python program to remove an item from a set if it is present in the set."
   ]
  },
  {
   "cell_type": "code",
   "execution_count": 49,
   "id": "866bab28",
   "metadata": {},
   "outputs": [
    {
     "data": {
      "text/plain": [
       "{2, 3, 4, 5}"
      ]
     },
     "execution_count": 49,
     "metadata": {},
     "output_type": "execute_result"
    }
   ],
   "source": [
    "s = {1, 2, 3, 4, 5}\n",
    "s.pop()\n",
    "s"
   ]
  },
  {
   "cell_type": "markdown",
   "id": "2b7cfed1",
   "metadata": {},
   "source": [
    "**58-Write a Python program to create an intersection,union,difference and symmetric difference of sets"
   ]
  },
  {
   "cell_type": "code",
   "execution_count": 50,
   "id": "7f94b7fe",
   "metadata": {},
   "outputs": [
    {
     "name": "stdout",
     "output_type": "stream",
     "text": [
      "{1, 2, 3}\n",
      "{1, 2, 3, 4, 5, 7, 8, 9, 10}\n",
      "{4, 5}\n",
      "{4, 5, 7, 8, 9, 10}\n"
     ]
    }
   ],
   "source": [
    "s = {1, 2, 3, 4, 5}\n",
    "s1={1,2,3,7,8,9,10}\n",
    "print(s.intersection(s1))\n",
    "print(s.union(s1))\n",
    "print(s.difference(s1))\n",
    "print(s.symmetric_difference(s1))"
   ]
  },
  {
   "cell_type": "markdown",
   "id": "b94931e2",
   "metadata": {},
   "source": [
    "**59-Write a Python program to find the maximum and minimum values in a set"
   ]
  },
  {
   "cell_type": "code",
   "execution_count": 51,
   "id": "203f9600",
   "metadata": {},
   "outputs": [
    {
     "name": "stdout",
     "output_type": "stream",
     "text": [
      "5 1\n"
     ]
    }
   ],
   "source": [
    "s = {1, 2, 3, 4, 5}\n",
    "l=list(s)\n",
    "max=0\n",
    "min=100000000\n",
    "for i in l:\n",
    "    if i>max:\n",
    "        max=i\n",
    "for i in l:\n",
    "    if i<min:\n",
    "        min=i\n",
    "print(max,min)"
   ]
  },
  {
   "cell_type": "markdown",
   "id": "255fd554",
   "metadata": {},
   "source": [
    "**60- Write a Python program that finds all pairs of elements in a list whose sum is equal to a given value."
   ]
  },
  {
   "cell_type": "code",
   "execution_count": 52,
   "id": "c2d94e1f",
   "metadata": {},
   "outputs": [
    {
     "name": "stdout",
     "output_type": "stream",
     "text": [
      "(1, 6) (2, 5) (3, 4) (4, 3) (5, 2) (6, 1) "
     ]
    }
   ],
   "source": [
    "lst = [1, 2, 3, 4, 5, 6]\n",
    "target_sum = 7\n",
    "for i in range(len(lst)):\n",
    "    for j in range(len(lst)):\n",
    "        if lst[i]+lst[j]==7:\n",
    "            print((lst[i],lst[j]),end=\" \")\n",
    "            "
   ]
  }
 ],
 "metadata": {
  "kernelspec": {
   "display_name": "Python 3 (ipykernel)",
   "language": "python",
   "name": "python3"
  },
  "language_info": {
   "codemirror_mode": {
    "name": "ipython",
    "version": 3
   },
   "file_extension": ".py",
   "mimetype": "text/x-python",
   "name": "python",
   "nbconvert_exporter": "python",
   "pygments_lexer": "ipython3",
   "version": "3.12.4"
  }
 },
 "nbformat": 4,
 "nbformat_minor": 5
}
